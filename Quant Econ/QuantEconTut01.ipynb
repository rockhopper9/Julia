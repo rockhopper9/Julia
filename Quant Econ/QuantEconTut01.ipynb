{
 "cells": [
  {
   "cell_type": "code",
   "execution_count": 1,
   "metadata": {},
   "outputs": [
    {
     "name": "stderr",
     "output_type": "stream",
     "text": [
      "\u001b[1m\u001b[36mINFO: \u001b[39m\u001b[22m\u001b[36mPrecompiling module QuantEcon.\n",
      "\u001b[39mWARNING: --output requested, but no modules defined during run\n",
      "\u001b[1m\u001b[33mWARNING: \u001b[39m\u001b[22m\u001b[33mThe call to compilecache failed to create a usable precompiled cache file for module FFTW. Got:\u001b[39m\n",
      "\u001b[1m\u001b[33mWARNING: \u001b[39m\u001b[22m\u001b[33mCache file \"/Users/chaslemarchant/.julia/lib/v0.6/FFTW.ji\" not found.\u001b[39m\n",
      "WARNING: eval from module Main to DSP:    \n",
      "Expr(:call, Expr(:., :Base, :include_from_node1)::Any, \"/Users/chaslemarchant/.julia/v0.6/FFTW/src/FFTW.jl\")::Any\n",
      "  ** incremental compilation may be broken for this module **\n",
      "\n"
     ]
    },
    {
     "data": {
      "text/plain": [
       "Discrete Markov Chain\n",
       "stochastic matrix of type Array{Float64,2}:\n",
       "[0.945853 0.0541468 2.92863e-10 0.0; 0.00580845 0.974718 0.0194737 1.43534e-11; 1.43534e-11 0.0194737 0.974718 0.00580845; 2.08117e-27 2.92863e-10 0.0541468 0.945853]"
      ]
     },
     "execution_count": 1,
     "metadata": {},
     "output_type": "execute_result"
    }
   ],
   "source": [
    "using QuantEcon: tauchen\n",
    "\n",
    "tauchen(4, 0.9, 1.0)"
   ]
  },
  {
   "cell_type": "code",
   "execution_count": null,
   "metadata": {
    "collapsed": true
   },
   "outputs": [],
   "source": []
  }
 ],
 "metadata": {
  "kernelspec": {
   "display_name": "Julia 0.6.0",
   "language": "julia",
   "name": "julia-0.6"
  },
  "language_info": {
   "file_extension": ".jl",
   "mimetype": "application/julia",
   "name": "julia",
   "version": "0.6.0"
  }
 },
 "nbformat": 4,
 "nbformat_minor": 2
}
